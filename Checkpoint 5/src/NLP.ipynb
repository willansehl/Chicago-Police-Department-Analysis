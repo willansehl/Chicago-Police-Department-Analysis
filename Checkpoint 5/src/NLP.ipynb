{
  "nbformat": 4,
  "nbformat_minor": 0,
  "metadata": {
    "colab": {
      "name": "NLP.ipynb",
      "provenance": [],
      "collapsed_sections": []
    },
    "kernelspec": {
      "name": "python3",
      "display_name": "Python 3"
    }
  },
  "cells": [
    {
      "cell_type": "code",
      "metadata": {
        "colab": {
          "base_uri": "https://localhost:8080/"
        },
        "id": "oWo2ZHYONBAq",
        "outputId": "219d7d11-0813-41fd-a6ff-5b5413c54882"
      },
      "source": [
        "# Install NLTK\n",
        "!pip install --user -U nltk\n",
        "\n",
        "# Import NLTK and sentiment analyzer\n",
        "import nltk\n",
        "from nltk.sentiment.vader import SentimentIntensityAnalyzer"
      ],
      "execution_count": null,
      "outputs": [
        {
          "output_type": "stream",
          "text": [
            "Requirement already up-to-date: nltk in /root/.local/lib/python3.6/site-packages (3.5)\n",
            "Requirement already satisfied, skipping upgrade: click in /usr/local/lib/python3.6/dist-packages (from nltk) (7.1.2)\n",
            "Requirement already satisfied, skipping upgrade: regex in /usr/local/lib/python3.6/dist-packages (from nltk) (2019.12.20)\n",
            "Requirement already satisfied, skipping upgrade: tqdm in /usr/local/lib/python3.6/dist-packages (from nltk) (4.41.1)\n",
            "Requirement already satisfied, skipping upgrade: joblib in /usr/local/lib/python3.6/dist-packages (from nltk) (0.17.0)\n"
          ],
          "name": "stdout"
        }
      ]
    },
    {
      "cell_type": "code",
      "metadata": {
        "colab": {
          "base_uri": "https://localhost:8080/"
        },
        "id": "0e27ZfkMXL-O",
        "outputId": "914e62a6-7db5-4ce7-ed13-a48603b8366a"
      },
      "source": [
        "nltk.download('vader_lexicon')"
      ],
      "execution_count": null,
      "outputs": [
        {
          "output_type": "stream",
          "text": [
            "[nltk_data] Downloading package vader_lexicon to /root/nltk_data...\n",
            "[nltk_data]   Package vader_lexicon is already up-to-date!\n"
          ],
          "name": "stdout"
        },
        {
          "output_type": "execute_result",
          "data": {
            "text/plain": [
              "True"
            ]
          },
          "metadata": {
            "tags": []
          },
          "execution_count": 46
        }
      ]
    },
    {
      "cell_type": "code",
      "metadata": {
        "id": "PEGsm85_XMqg"
      },
      "source": [
        "sentiment_analyzer = SentimentIntensityAnalyzer()"
      ],
      "execution_count": null,
      "outputs": []
    },
    {
      "cell_type": "code",
      "metadata": {
        "id": "B7Wjc31eXUvl",
        "colab": {
          "base_uri": "https://localhost:8080/"
        },
        "outputId": "fe41c240-e428-475c-b77c-9de961ccd585"
      },
      "source": [
        "complaint_1 = \"Cargo was at her home when officers forcefully entered without a valid search warrant. During the home invasion, officers injured her left foot and toe and she was treated at Jackson Park Hospital for her injuries.\"\n",
        "scores = sentiment_analyzer.polarity_scores(complaint_1)\n",
        "for key, value in scores.items():\n",
        "  print('{0}: {1}, '.format(key, value))"
      ],
      "execution_count": null,
      "outputs": [
        {
          "output_type": "stream",
          "text": [
            "neg: 0.074, \n",
            "neu: 0.926, \n",
            "pos: 0.0, \n",
            "compound: -0.4019, \n"
          ],
          "name": "stdout"
        }
      ]
    },
    {
      "cell_type": "code",
      "metadata": {
        "id": "VFH1cPwlYGTj"
      },
      "source": [
        "import pandas as pd"
      ],
      "execution_count": null,
      "outputs": []
    },
    {
      "cell_type": "code",
      "metadata": {
        "colab": {
          "base_uri": "https://localhost:8080/",
          "height": 419
        },
        "id": "2RYkG5ojYJ-H",
        "outputId": "26567145-d11a-4ca1-f04f-985e73b49095"
      },
      "source": [
        "data = pd.read_csv('../data/nlp.csv')\n",
        "data = data.drop_duplicates(subset=['allegation_id'], keep='last')\n",
        "pd.DataFrame(data)"
      ],
      "execution_count": null,
      "outputs": [
        {
          "output_type": "execute_result",
          "data": {
            "text/html": [
              "<div>\n",
              "<style scoped>\n",
              "    .dataframe tbody tr th:only-of-type {\n",
              "        vertical-align: middle;\n",
              "    }\n",
              "\n",
              "    .dataframe tbody tr th {\n",
              "        vertical-align: top;\n",
              "    }\n",
              "\n",
              "    .dataframe thead th {\n",
              "        text-align: right;\n",
              "    }\n",
              "</style>\n",
              "<table border=\"1\" class=\"dataframe\">\n",
              "  <thead>\n",
              "    <tr style=\"text-align: right;\">\n",
              "      <th></th>\n",
              "      <th>allegation_id</th>\n",
              "      <th>summary</th>\n",
              "      <th>beat_id</th>\n",
              "      <th>final_finding</th>\n",
              "    </tr>\n",
              "  </thead>\n",
              "  <tbody>\n",
              "    <tr>\n",
              "      <th>4</th>\n",
              "      <td>1000214</td>\n",
              "      <td>On October 4, 2006, a complaint was registered...</td>\n",
              "      <td>204</td>\n",
              "      <td>NS</td>\n",
              "    </tr>\n",
              "    <tr>\n",
              "      <th>5</th>\n",
              "      <td>1000301</td>\n",
              "      <td>On October 8, 2006, a complaint was registered...</td>\n",
              "      <td>201</td>\n",
              "      <td>SU</td>\n",
              "    </tr>\n",
              "    <tr>\n",
              "      <th>7</th>\n",
              "      <td>1000854</td>\n",
              "      <td>On October 29, 2006, a complaint was registere...</td>\n",
              "      <td>61</td>\n",
              "      <td>NS</td>\n",
              "    </tr>\n",
              "    <tr>\n",
              "      <th>9</th>\n",
              "      <td>1000936</td>\n",
              "      <td>On 01 November 2006, a complaint was registere...</td>\n",
              "      <td>187</td>\n",
              "      <td>SU</td>\n",
              "    </tr>\n",
              "    <tr>\n",
              "      <th>11</th>\n",
              "      <td>1001233</td>\n",
              "      <td>On November 12, 2006, a complaint was register...</td>\n",
              "      <td>123</td>\n",
              "      <td>SU</td>\n",
              "    </tr>\n",
              "    <tr>\n",
              "      <th>...</th>\n",
              "      <td>...</td>\n",
              "      <td>...</td>\n",
              "      <td>...</td>\n",
              "      <td>...</td>\n",
              "    </tr>\n",
              "    <tr>\n",
              "      <th>1220</th>\n",
              "      <td>314738</td>\n",
              "      <td>On August 6, 2006, a complaint was registered ...</td>\n",
              "      <td>23</td>\n",
              "      <td>SU</td>\n",
              "    </tr>\n",
              "    <tr>\n",
              "      <th>1221</th>\n",
              "      <td>315128</td>\n",
              "      <td>On August 2005, a complaint was registered wit...</td>\n",
              "      <td>29</td>\n",
              "      <td>SU</td>\n",
              "    </tr>\n",
              "    <tr>\n",
              "      <th>1224</th>\n",
              "      <td>315271</td>\n",
              "      <td>On 02 September 2006, a complaint was register...</td>\n",
              "      <td>266</td>\n",
              "      <td>SU</td>\n",
              "    </tr>\n",
              "    <tr>\n",
              "      <th>1225</th>\n",
              "      <td>315303</td>\n",
              "      <td>On 04 September 2006, a complaint was register...</td>\n",
              "      <td>120</td>\n",
              "      <td>SU</td>\n",
              "    </tr>\n",
              "    <tr>\n",
              "      <th>1226</th>\n",
              "      <td>315420</td>\n",
              "      <td>On 11 September 2006, a complaint was register...</td>\n",
              "      <td>203</td>\n",
              "      <td>SU</td>\n",
              "    </tr>\n",
              "  </tbody>\n",
              "</table>\n",
              "<p>719 rows × 4 columns</p>\n",
              "</div>"
            ],
            "text/plain": [
              "      allegation_id  ... final_finding\n",
              "4           1000214  ...            NS\n",
              "5           1000301  ...            SU\n",
              "7           1000854  ...            NS\n",
              "9           1000936  ...            SU\n",
              "11          1001233  ...            SU\n",
              "...             ...  ...           ...\n",
              "1220         314738  ...            SU\n",
              "1221         315128  ...            SU\n",
              "1224         315271  ...            SU\n",
              "1225         315303  ...            SU\n",
              "1226         315420  ...            SU\n",
              "\n",
              "[719 rows x 4 columns]"
            ]
          },
          "metadata": {
            "tags": []
          },
          "execution_count": 50
        }
      ]
    },
    {
      "cell_type": "code",
      "metadata": {
        "id": "p-EN7Pd0YNdw"
      },
      "source": [
        "summaries_SU_not_sampled = data[data['final_finding']=='SU']['summary'].tolist()\n",
        "summaries_NS = data[data['final_finding']=='NS']['summary'].tolist()"
      ],
      "execution_count": null,
      "outputs": []
    },
    {
      "cell_type": "code",
      "metadata": {
        "colab": {
          "base_uri": "https://localhost:8080/"
        },
        "id": "3dXBqe3OYsLk",
        "outputId": "f7edc8bc-bb07-4f62-e048-47d659a94135"
      },
      "source": [
        "len(summaries_SU_not_sampled)"
      ],
      "execution_count": null,
      "outputs": [
        {
          "output_type": "execute_result",
          "data": {
            "text/plain": [
              "554"
            ]
          },
          "metadata": {
            "tags": []
          },
          "execution_count": 52
        }
      ]
    },
    {
      "cell_type": "code",
      "metadata": {
        "colab": {
          "base_uri": "https://localhost:8080/"
        },
        "id": "mC7CnU3LZw-X",
        "outputId": "b20a1423-b347-4b59-e703-d06e6f34fb53"
      },
      "source": [
        "len(summaries_NS)"
      ],
      "execution_count": null,
      "outputs": [
        {
          "output_type": "execute_result",
          "data": {
            "text/plain": [
              "165"
            ]
          },
          "metadata": {
            "tags": []
          },
          "execution_count": 53
        }
      ]
    },
    {
      "cell_type": "code",
      "metadata": {
        "id": "3lzP4NdMfn2K"
      },
      "source": [
        "from random import sample\n",
        "summaries_SU = sample(summaries_SU_not_sampled, len(summaries_NS))"
      ],
      "execution_count": null,
      "outputs": []
    },
    {
      "cell_type": "code",
      "metadata": {
        "colab": {
          "base_uri": "https://localhost:8080/"
        },
        "id": "7G810yRrgAQ7",
        "outputId": "5b07c5c7-2dce-49f0-ef36-1eeaa87cc6b0"
      },
      "source": [
        "len(summaries_SU)"
      ],
      "execution_count": null,
      "outputs": [
        {
          "output_type": "execute_result",
          "data": {
            "text/plain": [
              "165"
            ]
          },
          "metadata": {
            "tags": []
          },
          "execution_count": 55
        }
      ]
    },
    {
      "cell_type": "code",
      "metadata": {
        "id": "K1QC6ofLZyjU"
      },
      "source": [
        "su_scores = []\n",
        "for summary in summaries_SU:\n",
        "  scores = sentiment_analyzer.polarity_scores(summary)['compound']\n",
        "  su_scores.append(scores)\n",
        "\n",
        "ns_scores = []\n",
        "for summary in summaries_NS:\n",
        "  scores = sentiment_analyzer.polarity_scores(summary)['compound']\n",
        "  ns_scores.append(scores)"
      ],
      "execution_count": null,
      "outputs": []
    },
    {
      "cell_type": "code",
      "metadata": {
        "colab": {
          "base_uri": "https://localhost:8080/",
          "height": 350
        },
        "id": "t4MYkvwHb4-Z",
        "outputId": "2c92cc45-6407-45f9-fb88-2d0c212d0fec"
      },
      "source": [
        "import matplotlib.pyplot as plt\n",
        "import numpy as np\n",
        "# Numbers of pairs of bars you want\n",
        "N = 5\n",
        "\n",
        "# Data on X-axis\n",
        "out_su = pd.cut(su_scores, bins=[-1, -.6, -.2, 0.2, 0.6, 1], include_lowest=True).value_counts()\n",
        "out_ns = pd.cut(ns_scores, bins=[-1, -.6, -.2, 0.2, 0.6, 1], include_lowest=True).value_counts()\n",
        "\n",
        "# Specify the values of blue bars (height)\n",
        "blue_bar = out_su\n",
        "# Specify the values of orange bars (height)\n",
        "orange_bar = out_ns\n",
        "\n",
        "# Position of bars on x-axis\n",
        "ind = np.arange(N)\n",
        "\n",
        "# Figure size\n",
        "plt.figure(figsize=(10,5))\n",
        "\n",
        "# Width of a bar \n",
        "width = 0.3       \n",
        "\n",
        "# Plotting\n",
        "plt.bar(ind, blue_bar , width, label='# Sustained')\n",
        "plt.bar(ind + width, orange_bar, width, label='# Not Sustained')\n",
        "\n",
        "plt.xlabel('Sentiment')\n",
        "plt.ylabel('Frequency')\n",
        "plt.title('Frequency of Sentiments for Sustained and Not Sustained Allegations')\n",
        "\n",
        "# xticks()\n",
        "# First argument - A list of positions at which ticks should be placed\n",
        "# Second argument -  A list of labels to place at the given locations\n",
        "plt.xticks(ind + width / 2, ('Very Negative', 'Negative', 'Neutral', 'Positive', 'Very Positive'))\n",
        "\n",
        "# Finding the best position for legends and putting it\n",
        "plt.legend(loc='best')\n",
        "plt.show()"
      ],
      "execution_count": null,
      "outputs": [
        {
          "output_type": "display_data",
          "data": {
            "image/png": "[encoded data removed]",
            "text/plain": [
              "<Figure size 720x360 with 1 Axes>"
            ]
          },
          "metadata": {
            "tags": [],
            "needs_background": "light"
          }
        }
      ]
    },
    {
      "cell_type": "code",
      "metadata": {
        "id": "ezvYuURfdwnZ",
        "colab": {
          "base_uri": "https://localhost:8080/"
        },
        "outputId": "8f5242de-4de8-450b-d954-3de6f5e346a2"
      },
      "source": [
        "su_dict = {}\n",
        "for summary in summaries_SU:\n",
        "  su_dict[summary] = sentiment_analyzer.polarity_scores(summary)['compound']\n",
        "\n",
        "newDict = dict(filter(lambda elem: elem[1] > 0.6, su_dict.items()))\n",
        "print(newDict.keys())"
      ],
      "execution_count": null,
      "outputs": [
        {
          "output_type": "stream",
          "text": [
            "dict_keys(['In an incident involving an on-duty CPD Sergeant/ex- boyfriend and the Complainant/ex-girlfriend, it was alleged that, while aboard the Sergeant/ex-boyfriends boat the Sergeant/ex-boyfriend was drinking while on duty, forcefully grabbed the Complainant/ex- girlfriends arm, placed his forearm on the Complainant/ex-girlfriends neck and slammed her against his truck, made an inappropriate comment to the Complainant/ex-girlfriend, took Complainant/ex- girlfriends cell phone from her and prevented her from calling the police, and directed profanity at the Complainant/ex-girlfriend. Also, it was alleged that on or about September 22, 2012 the Sergeant/ex- boyfriend directed profanities at the Complainant/ex-girlfriend via text message. It is also was alleged that on or about August 29, 2012 the Sergeant/ex-boyfriend picked the Complainant/ex-girlfriend up and held her upside down and dropped her face first on the floor. It was further alleged that on an unknown date the Sergeant/ex-boyfriend punched the Complainant/ex-girlfriend on her left arm. Also, during the course of the Sergeant/ex-boyfriends tour of duty on September 28, 2012-September 29, 2012, it was alleged that the Sergeant/ex- boyfriend left his 5th district assignment and traveled to the 3rd district without authorization, failed to notify OEMC of his change in availability when he left his 5th district assignment and traveled to 3rd district and failed to indicate the reason for that change and his specific street location, was absent without permission, failed to respond to assignments given to him by OEMC, neglected his duty in that he did not respond to assignments given to him by OEMC and was inattentive to duty in that he failed to supervise his subordinates. Finally, it was alleged that the Sergeant/ex-boyfriend placed an inaccurate date and time on a case report and placed an inaccurate incident date on a petition for order of protection.'])\n"
          ],
          "name": "stdout"
        }
      ]
    },
    {
      "cell_type": "code",
      "metadata": {
        "id": "lsQlSS8rlI64",
        "colab": {
          "base_uri": "https://localhost:8080/"
        },
        "outputId": "6083e6d4-2507-4b8b-93fd-fa39dade03fe"
      },
      "source": [
        "import nltk\n",
        "nltk.download('wordnet')\n",
        "nltk.download('averaged_perceptron_tagger')\n",
        "nltk.download('punkt')\n",
        "from nltk.tag import pos_tag\n",
        "import re"
      ],
      "execution_count": null,
      "outputs": [
        {
          "output_type": "stream",
          "text": [
            "[nltk_data] Downloading package wordnet to /root/nltk_data...\n",
            "[nltk_data]   Package wordnet is already up-to-date!\n",
            "[nltk_data] Downloading package averaged_perceptron_tagger to\n",
            "[nltk_data]     /root/nltk_data...\n",
            "[nltk_data]   Package averaged_perceptron_tagger is already up-to-\n",
            "[nltk_data]       date!\n",
            "[nltk_data] Downloading package punkt to /root/nltk_data...\n",
            "[nltk_data]   Package punkt is already up-to-date!\n"
          ],
          "name": "stdout"
        }
      ]
    },
    {
      "cell_type": "code",
      "metadata": {
        "id": "LRW1HXHhtHhi"
      },
      "source": [
        "def cleaned_results(sentence):\n",
        "  for s in sentence:\n",
        "    sentence_results = []\n",
        "    sentence_results.append(nltk.word_tokenize(sentence))\n",
        "    results_tuple = pos_tag(sentence_results[0])\n",
        "    filter_set = set(['VBN', 'VBD', 'JJ'])\n",
        "    results_filtered = [tup for tup in results_tuple if tup[1] in filter_set]\n",
        "    cleaned_results = [word[0] for word in results_filtered]\n",
        "    return \" \".join(cleaned_results)"
      ],
      "execution_count": null,
      "outputs": []
    },
    {
      "cell_type": "code",
      "metadata": {
        "colab": {
          "base_uri": "https://localhost:8080/"
        },
        "id": "U5rec2VHuCD0",
        "outputId": "33e4a974-efb1-4418-dda0-4477cc4fe385"
      },
      "source": [
        "cleaned_su = []\n",
        "cleaned_ns = []\n",
        "for summary in summaries_SU:\n",
        "  cleaned_su.append(cleaned_results(summary))\n",
        "\n",
        "for summary in summaries_NS:\n",
        "  cleaned_ns.append(cleaned_results(summary))\n",
        "\n",
        "print(cleaned_su[0])"
      ],
      "execution_count": null,
      "outputs": [
        {
          "output_type": "stream",
          "text": [
            "was registered off-duty occurred was alleged attempted directed biased refused requested other preliminary Simple was intoxicated off-duty Simple Based accused recommended attempted directed biased agreed refused requested other preliminary Simple was intoxicated off-duty Simple agreed\n"
          ],
          "name": "stdout"
        }
      ]
    },
    {
      "cell_type": "code",
      "metadata": {
        "colab": {
          "base_uri": "https://localhost:8080/"
        },
        "id": "OwkoC947u-Bl",
        "outputId": "91ce385b-8fbd-453b-94d1-1cc6f607f925"
      },
      "source": [
        "len(cleaned_su)"
      ],
      "execution_count": null,
      "outputs": [
        {
          "output_type": "execute_result",
          "data": {
            "text/plain": [
              "165"
            ]
          },
          "metadata": {
            "tags": []
          },
          "execution_count": 62
        }
      ]
    },
    {
      "cell_type": "code",
      "metadata": {
        "colab": {
          "base_uri": "https://localhost:8080/"
        },
        "id": "ucrDFO_6vCUt",
        "outputId": "22717c4d-db5c-4f33-e70b-d5afd4f8bdb9"
      },
      "source": [
        "len(cleaned_ns)"
      ],
      "execution_count": null,
      "outputs": [
        {
          "output_type": "execute_result",
          "data": {
            "text/plain": [
              "165"
            ]
          },
          "metadata": {
            "tags": []
          },
          "execution_count": 63
        }
      ]
    },
    {
      "cell_type": "code",
      "metadata": {
        "id": "xRHLsKpBvDre"
      },
      "source": [
        "su_scores_cleaned = []\n",
        "for summary in cleaned_su:\n",
        "  scores = sentiment_analyzer.polarity_scores(summary)['compound']\n",
        "  su_scores_cleaned.append(scores)\n",
        "\n",
        "ns_scores_cleaned = []\n",
        "for summary in cleaned_ns:\n",
        "  scores = sentiment_analyzer.polarity_scores(summary)['compound']\n",
        "  ns_scores_cleaned.append(scores)"
      ],
      "execution_count": null,
      "outputs": []
    },
    {
      "cell_type": "code",
      "metadata": {
        "colab": {
          "base_uri": "https://localhost:8080/"
        },
        "id": "VUgKwWl_vs3S",
        "outputId": "d8e381a7-458c-47d6-f90f-2a098529c712"
      },
      "source": [
        "print(su_scores_cleaned)"
      ],
      "execution_count": null,
      "outputs": [
        {
          "output_type": "stream",
          "text": [
            "[-0.5859, -0.6124, -0.9169, -0.9477, -0.91, 0.0, -0.3182, -0.2023, -0.9531, 0.0, -0.9682, -0.9953, -0.5994, -0.8442, -0.765, -0.6486, -0.5859, -0.9186, -0.6369, -0.9657, -0.9477, -0.2023, -0.2732, -0.5267, -0.7783, -0.4215, -0.926, -0.9761, 0.2732, -0.2023, -0.9944, -0.8555, 0.5106, -0.9382, 0.0, -0.9442, 0.4019, -0.2023, -0.4215, -0.7003, -0.9001, -0.5106, -0.8555, -0.6486, -0.5106, -0.7506, -0.6369, -0.9761, -0.975, -0.2023, -0.7579, -0.992, -0.8979, -0.872, -0.743, -0.9965, 0.2732, 0.7351, 0.0, -0.9571, -0.9136, -0.9877, -0.8834, -0.9217, -0.6486, 0.0, -0.8834, 0.0, -0.4588, -0.9803, -0.9929, 0.2732, -0.4588, -0.802, -0.4588, -0.8225, -0.3182, -0.9803, -0.2023, 0.128, -0.9686, -0.986, -0.9869, -0.2023, -0.9924, -0.4588, -0.8519, -0.6486, -0.9779, -0.4588, -0.296, -0.9201, -0.7003, 0.4019, -0.9806, -0.6249, 0.0, -0.3182, 0.0, -0.0258, -0.765, 0.0, -0.7184, 0.0, -0.4215, -0.9186, -0.1531, -0.5106, -0.7717, -0.7351, -0.4588, 0.0, -0.836, -0.4404, -0.7351, -0.9186, -0.9485, -0.9413, -0.9477, -0.4939, -0.1027, 0.0, -0.9851, -0.5574, -0.9761, -0.7351, -0.0258, -0.9638, -0.9894, -0.9217, -0.875, -0.6486, -0.8834, -0.9726, -0.7506, -0.5719, -0.9947, -0.7783, -0.9485, 0.1027, 0.4767, -0.7579, -0.8074, -0.8271, -0.3182, -0.9325, -0.9979, -0.6808, -0.9738, -0.6486, -0.0772, -0.6705, -0.743, -0.1779, -0.4767, -0.765, -0.9875, 0.1027, 0.0, -0.0258, -0.6486, -0.8481, -0.836, -0.9623, -0.7783]\n"
          ],
          "name": "stdout"
        }
      ]
    },
    {
      "cell_type": "code",
      "metadata": {
        "colab": {
          "base_uri": "https://localhost:8080/",
          "height": 350
        },
        "id": "4bpZz3uFvYAW",
        "outputId": "6f6172fd-b7b5-4bb7-f2c9-c09b535eac6e"
      },
      "source": [
        "N = 5\n",
        "\n",
        "# Data on X-axis\n",
        "out_su = pd.cut(su_scores_cleaned, bins=[-1, -.6, -.2, 0.2, 0.6, 1], include_lowest=True).value_counts()\n",
        "out_ns = pd.cut(ns_scores_cleaned, bins=[-1, -.6, -.2, 0.2, 0.6, 1], include_lowest=True).value_counts()\n",
        "\n",
        "# Specify the values of blue bars (height)\n",
        "blue_bar = out_su\n",
        "# Specify the values of orange bars (height)\n",
        "orange_bar = out_ns\n",
        "\n",
        "# Position of bars on x-axis\n",
        "ind = np.arange(N)\n",
        "\n",
        "# Figure size\n",
        "plt.figure(figsize=(10,5))\n",
        "\n",
        "# Width of a bar \n",
        "width = 0.3       \n",
        "\n",
        "# Plotting\n",
        "plt.bar(ind, blue_bar , width, label='# Sustained')\n",
        "plt.bar(ind + width, orange_bar, width, label='# Not Sustained')\n",
        "\n",
        "plt.xlabel('Sentiment')\n",
        "plt.ylabel('Frequency')\n",
        "plt.title('Frequency of Sentiments for Sustained and Not Sustained Allegations')\n",
        "\n",
        "# xticks()\n",
        "# First argument - A list of positions at which ticks should be placed\n",
        "# Second argument -  A list of labels to place at the given locations\n",
        "plt.xticks(ind + width / 2, ('Very Negative', 'Negative', 'Neutral', 'Positive', 'Very Positive'))\n",
        "\n",
        "# Finding the best position for legends and putting it\n",
        "plt.legend(loc='best')\n",
        "plt.show()"
      ],
      "execution_count": null,
      "outputs": [
        {
          "output_type": "display_data",
          "data": {
            "image/png": "[encoded data removed]",
            "text/plain": [
              "<Figure size 720x360 with 1 Axes>"
            ]
          },
          "metadata": {
            "tags": [],
            "needs_background": "light"
          }
        }
      ]
    },
    {
      "cell_type": "code",
      "metadata": {
        "colab": {
          "base_uri": "https://localhost:8080/"
        },
        "id": "9PeNF5SsvnTi",
        "outputId": "6b622b22-d752-4f0e-9341-b60b8807ca78"
      },
      "source": [
        "su_dict_cleaned = {}\n",
        "for summary in cleaned_su:\n",
        "  su_dict_cleaned[summary] = sentiment_analyzer.polarity_scores(summary)['compound']\n",
        "\n",
        "newDict = dict(filter(lambda elem: elem[1] > 0.6, su_dict_cleaned.items()))\n",
        "print(newDict.keys())"
      ],
      "execution_count": null,
      "outputs": [
        {
          "output_type": "stream",
          "text": [
            "dict_keys(['was registered on-duty occurred 5th was alleged mishandled discharged was possible great bodily agreed'])\n"
          ],
          "name": "stdout"
        }
      ]
    },
    {
      "cell_type": "code",
      "metadata": {
        "id": "q7bYBppLxEj6"
      },
      "source": [
        "from nltk.stem.wordnet import WordNetLemmatizer"
      ],
      "execution_count": null,
      "outputs": []
    },
    {
      "cell_type": "code",
      "metadata": {
        "colab": {
          "base_uri": "https://localhost:8080/"
        },
        "id": "eC-n5BKNY2sW",
        "outputId": "c92e2d4c-082b-4692-9d16-3040d919c0f0"
      },
      "source": [
        "def lemmatize_sentence(sentence):\n",
        "  for s in sentence:\n",
        "    sentence_results = []\n",
        "    sentence_results.append(nltk.word_tokenize(sentence))\n",
        "    results_tuple = pos_tag(sentence_results[0])\n",
        "    filter_set = set(['VBN', 'VBD', 'JJ'])\n",
        "    results_filtered = [tup for tup in results_tuple if tup[1] in filter_set] # [(\"ran\", \"JJ\"), ...]\n",
        "    lemmatizer = WordNetLemmatizer()\n",
        "    lemmatized_sentence = []\n",
        "    for word, tag in results_filtered:\n",
        "      if tag.startswith('VBN') or tag.startswith('VBD'):\n",
        "        pos = 'v'\n",
        "      else:\n",
        "        pos = 'a'\n",
        "      lemmatized_sentence.append(lemmatizer.lemmatize(word, pos))\n",
        "    # cleaned_results = [word[0] for word in results_filtered] #[\"ran\", \"harrassed\", ...]\n",
        "    return \" \".join(lemmatized_sentence)\n",
        "lemmas_SU = []\n",
        "for summary in summaries_SU:\n",
        "  lemmas_SU.append(lemmatize_sentence(summary))\n",
        "\n",
        "lemmas_NS = []\n",
        "for summary in summaries_NS:\n",
        "  lemmas_NS.append(lemmatize_sentence(summary))\n",
        "\n",
        "print(lemmas_SU[0])"
      ],
      "execution_count": null,
      "outputs": [
        {
          "output_type": "stream",
          "text": [
            "be register off-duty occur be allege attempt direct biased refuse request other preliminary Simple be intoxicate off-duty Simple Based accuse recommend attempt direct biased agree refuse request other preliminary Simple be intoxicate off-duty Simple agree\n"
          ],
          "name": "stdout"
        }
      ]
    },
    {
      "cell_type": "code",
      "metadata": {
        "id": "0nj8OrkoeASR"
      },
      "source": [
        "su_scores_lemmas = []\n",
        "for summary in lemmas_SU:\n",
        "  scores = sentiment_analyzer.polarity_scores(summary)['compound']\n",
        "  su_scores_lemmas.append(scores)\n",
        "\n",
        "ns_scores_lemmas = []\n",
        "for summary in cleaned_ns:\n",
        "  scores = sentiment_analyzer.polarity_scores(summary)['compound']\n",
        "  ns_scores_lemmas.append(scores)"
      ],
      "execution_count": null,
      "outputs": []
    },
    {
      "cell_type": "code",
      "metadata": {
        "colab": {
          "base_uri": "https://localhost:8080/"
        },
        "id": "4df6uNv-emxO",
        "outputId": "a4720f9d-2b12-410b-a26a-960a9802aec1"
      },
      "source": [
        "print(su_scores_lemmas)"
      ],
      "execution_count": null,
      "outputs": [
        {
          "output_type": "stream",
          "text": [
            "[-0.2263, -0.5574, -0.9118, -0.9274, -0.5423, 0.0, 0.3182, 0.25, -0.8779, 0.0, -0.9531, -0.9953, -0.1531, -0.34, -0.765, -0.7783, -0.2023, -0.8481, -0.1027, -0.9313, -0.9403, 0.25, 0.1779, 0.0258, -0.7506, 0.0258, -0.8885, -0.9716, 0.3612, 0.1531, -0.9945, -0.6908, 0.4588, -0.9118, 0.0, -0.9413, 0.34, 0.4767, 0.0258, -0.5859, -0.7845, -0.5423, -0.8271, -0.6908, -0.5423, -0.6808, -0.4939, -0.9633, -0.9712, -0.1779, 0.1779, -0.9871, -0.743, -0.8885, -0.743, -0.9955, 0.3612, 0.765, 0.0, -0.9612, -0.8176, -0.989, -0.7964, -0.8957, -0.6124, 0.0, -0.8885, 0.0, -0.0516, -0.9702, -0.9922, 0.3612, -0.3818, -0.5859, -0.1531, -0.6908, -0.2263, -0.9812, 0.25, 0.5106, -0.9201, -0.9812, -0.9893, 0.25, -0.9914, -0.1531, -0.8591, -0.765, -0.9753, -0.1531, -0.296, -0.9136, -0.5574, 0.34, -0.9451, -0.8442, 0.0, -0.2263, 0.0, 0.0772, -0.7783, 0.0, -0.743, 0.0, 0.0258, -0.8807, -0.2732, -0.5423, -0.7579, -0.7096, -0.3818, 0.0, -0.8271, -0.0258, -0.5574, -0.9062, -0.7964, -0.8957, -0.9682, -0.2732, 0.1779, 0.0, -0.9766, -0.7003, -0.9723, 0.1531, 0.0772, -0.936, -0.9836, -0.9403, -0.836, -0.6124, -0.7506, -0.9756, -0.8625, -0.4588, -0.9894, -0.6705, -0.9062, 0.4215, 0.4767, -0.8074, -0.4939, -0.8225, -0.2263, -0.9217, -0.998, -0.3612, -0.9732, -0.6908, 0.34, -0.5106, -0.7579, 0.3182, -0.1779, -0.7906, -0.9874, 0.4215, 0.1531, 0.0772, -0.6124, -0.8519, -0.8225, -0.9716, -0.836]\n"
          ],
          "name": "stdout"
        }
      ]
    },
    {
      "cell_type": "code",
      "metadata": {
        "colab": {
          "base_uri": "https://localhost:8080/",
          "height": 350
        },
        "id": "atQ5T15ber6O",
        "outputId": "ec2b69f1-b94c-4029-c8bd-66dd48fc90f5"
      },
      "source": [
        "N = 5\n",
        "\n",
        "# Data on X-axis\n",
        "out_su = pd.cut(su_scores_lemmas, bins=[-1, -.6, -.2, 0.2, 0.6, 1], include_lowest=True).value_counts()\n",
        "out_ns = pd.cut(ns_scores_lemmas, bins=[-1, -.6, -.2, 0.2, 0.6, 1], include_lowest=True).value_counts()\n",
        "\n",
        "# Specify the values of blue bars (height)\n",
        "blue_bar = out_su\n",
        "# Specify the values of orange bars (height)\n",
        "orange_bar = out_ns\n",
        "\n",
        "# Position of bars on x-axis\n",
        "ind = np.arange(N)\n",
        "\n",
        "# Figure size\n",
        "plt.figure(figsize=(10,5))\n",
        "\n",
        "# Width of a bar \n",
        "width = 0.3       \n",
        "\n",
        "# Plotting\n",
        "plt.bar(ind, blue_bar , width, label='# Sustained')\n",
        "plt.bar(ind + width, orange_bar, width, label='# Not Sustained')\n",
        "\n",
        "plt.xlabel('Sentiment')\n",
        "plt.ylabel('Frequency')\n",
        "plt.title('Frequency of Sentiments for Sustained and Not Sustained Allegations')\n",
        "\n",
        "# xticks()\n",
        "# First argument - A list of positions at which ticks should be placed\n",
        "# Second argument -  A list of labels to place at the given locations\n",
        "plt.xticks(ind + width / 2, ('Very Negative', 'Negative', 'Neutral', 'Positive', 'Very Positive'))\n",
        "\n",
        "# Finding the best position for legends and putting it\n",
        "plt.legend(loc='best')\n",
        "plt.show()"
      ],
      "execution_count": null,
      "outputs": [
        {
          "output_type": "display_data",
          "data": {
            "image/png": "[encoded data removed]",
            "text/plain": [
              "<Figure size 720x360 with 1 Axes>"
            ]
          },
          "metadata": {
            "tags": [],
            "needs_background": "light"
          }
        }
      ]
    },
    {
      "cell_type": "code",
      "metadata": {
        "colab": {
          "base_uri": "https://localhost:8080/"
        },
        "id": "iiqQ6gT-exbn",
        "outputId": "4cc24597-10e8-4529-ce7f-6e7270ed9e89"
      },
      "source": [
        "su_dict_lemmas = {}\n",
        "for summary in lemmas_SU:\n",
        "  su_dict_lemmas[summary] = sentiment_analyzer.polarity_scores(summary)['compound']\n",
        "\n",
        "newDict = dict(filter(lambda elem: elem[1] > 0.6, su_dict_lemmas.items()))\n",
        "print(newDict.keys())"
      ],
      "execution_count": null,
      "outputs": [
        {
          "output_type": "stream",
          "text": [
            "dict_keys(['be register on-duty occur 5th be allege mishandle discharge be possible great bodily agree'])\n"
          ],
          "name": "stdout"
        }
      ]
    }
  ]
}